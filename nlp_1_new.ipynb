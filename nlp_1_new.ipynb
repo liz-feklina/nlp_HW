{
 "cells": [
  {
   "cell_type": "code",
   "execution_count": 1,
   "metadata": {},
   "outputs": [],
   "source": [
    "import requests\n",
    "from bs4 import BeautifulSoup\n",
    "from fake_useragent import UserAgent\n",
    "import nltk\n",
    "from nltk.tokenize import word_tokenize\n",
    "from pymorphy2 import MorphAnalyzer\n",
    "from tqdm import tqdm\n",
    "import time\n",
    "import random\n",
    "import json"
   ]
  },
  {
   "cell_type": "markdown",
   "metadata": {},
   "source": [
    "Список из 4 шампуней, отзывы на которых возьмём"
   ]
  },
  {
   "cell_type": "code",
   "execution_count": 2,
   "metadata": {},
   "outputs": [],
   "source": [
    "bad_reviews_links = []\n",
    "good_reviews_links = []\n",
    "\n",
    "shampoos = ['https://irecommend.ru/content/shampun-garnier-fructis-obem-i-vosstanovlenie-ekstralegkost-dlya-tonkikh-oslablennykh-volos',\n",
    "           'https://irecommend.ru/content/shampun-nivea-shampun-ukhod-siyanie-i-obem',\n",
    "           'https://irecommend.ru/content/shampun-ot-perkhoti-headshoulders-protiv-vypadeniya-volos',\n",
    "           'https://irecommend.ru/content/shampun-pantene-pro-v-novaya-formula-gladkii-shelk']"
   ]
  },
  {
   "cell_type": "code",
   "execution_count": 3,
   "metadata": {},
   "outputs": [],
   "source": [
    "bad_reviews_links = ['/content/sploshnoe-vrane-foto-obeshchanii-i-emotsii', '/content/i-gde-zhe-moi-obem-i-vosstanovlenie', '/content/ne-sdelal-volosy-obemnee-ne-vosstanovil-ikh-zato-ulybnul-bredovymi-instrumentalnymi-testami', '/content/obem-moim-tonkim-dlinnym-volosam-deistvitelno-pridal-foto-posle-ispolzovaniya', '/content/ispolzovala-dlya-smyvaniya-maslyanykh-masok-i-prosto-na-kazhdyi-den-moe-mnenie', '/content/legkost-volos-mozhet-byt-vse-zhe-pushistost-eshche-nepromytost', '/content/ekhkak-ya-lyublyu-zapakh-etogo-shampunya-zhal-no-posle-takogo-pridetsya-perestat-im-polzovat', '/content/ne-dlya-moikh-volos-navernoe-khotya-ne-znayu-dazhefoto-posle-mytya', '/content/razocharovanie-528', '/content/vosstanavlivayu-im-poly', '/content/intuitsiya-ne-podvela-1', '/content/snachala-khoroshopotom-uzhasno', '/content/topolinyi-pukh-zhara-iyun-eto-ya-pro-svoi-volosy-posle-mytya-shampunem-nivea-siyanie-i-obem', '/content/shampun-etot-ochen-strannyi-predmet-volosy-chistye-golova-net', '/content/vmesto-brilliantovogo-bleska-i-obema-poluchila-zhestkie-volosy-obem-i-blesk-zabyli-nalit-vo', '/content/dva-minusa-kotorye-zastavili-menya-prekratit-ispolzovanie-dannogo-shampunya', '/content/kraine-nepriyatnyi-effekt-ot-shampunya', '/content/neplokhoi-shampun-no-minus-est-dlya-moikh-volos-ogromnyi', '/content/ziyayushchii-proval-obeshchannogo-siyaniya', '/content/deistvitelno-li-ukhod-i-siyanie', '/content/ot-perkhoti-da-eshche-i-ot-vypadeniya-tak-li-effektiven-pirition-tsinka-kak-nam-pytayutsya-v', '/content/dazhe-nogi-im-myt-ne-stanu-podrobno-rasskazhu-pochemu', '/content/dazhe-i-ne-dumaite-pokupat', '/content/khotite-prekrasnye-issushennye-volosy-i-zhirnye-korni-na-sleduyushchii-dentogdavam-opredelen', '/content/ocherednoe-razocharovanie-veka-chuda-ne-proizoshlo', '/content/net-razmyshleniya-o-marketingovykh-khodakh-odnogo-strannogo-cheloveka', '/content/momentalnyi-effekt-gryaznykh-volos', '/content/budte-ostorozhny-69', '/content/ne-shampun-razocharovanie-0', '/content/ni-ot-perkhoti-ni-ot-vypadeniya-volos-ne-pomogaet', '/content/tak-mnogo-minusov-tak-malo-plyusov', '/content/volosy-stali-vypadat-eshche-bolshe-0', '/content/strannyi-effekt-ubral-perkhot-i-vysushil-i-bez-togo-sukhie-volosy-i-vse-eto-za-odno-primenen', '/content/shampun-isportilsya', '/content/ne-rekomenduyu-1579', '/content/otlichnyi-shampun-432', '/content/vyzyvaet-perkhot-3', '/content/proizvoditeli-opechatalis-ne-protiv-perkhoti-dlya-perkhoti', '/content/chem-dorozhe-tem-kruche-reklama', '/content/ne-ot-vypadeniya-dlya-vypadeniya', '/content/shampun-kak-shampun-5', '/content/uzhasnyi-shampun-96', '/content/ekhpantinnu-ne-sudba-tak-ne-sudbaotzyv-iz-razryadaezhiki-plakalikololisno-prodolzhali-est-ka', '/content/yavno-ne-dlya-chastogo-ispolzovaniya-foto-volos', '/content/ves-lob-v-pryshchakh-foto-shampunya', '/content/pakli-na-golove-byli-pakli-i-ostalis-shampun-ne-sdelal-nichego', '/content/ne-dumala-chto-shelk-vyglyadit-tak', '/content/volosy-neplokho-vyglyadyat-posle-etogo-shampunyano-k-sozhaleniyu-u-nego-uzhasnyi-khimicheski', '/content/vse-chto-ugodno-tolko-ne-shelk', '/content/nachali-lezt-volosy-0', '/content/poyavilas-perkhot-13', '/content/shampun-etoi-serii-ne-vpechatlil-balzam-super', '/content/uzhasnyikak-vse-serii-pantene-pro-v', '/content/moi-verdikt', '/content/okh-i-nadoeli-oni-s-etimi-novymi-formulami', '/content/ostavlyaet-zhelat-luchshego-15', '/content/shelka-chto-ne-vidno', '/content/gladkii-shelk-nesootvetstvie-kakoe', '/content/poyavilas-perkhot-2']"
   ]
  },
  {
   "cell_type": "code",
   "execution_count": 4,
   "metadata": {},
   "outputs": [],
   "source": [
    "good_reviews_links = ['/content/i-vse-ravno-periodicheski-ruki-tyanutsya-kupit-znamenituyu-zelenuyu-butylochku-ot-garnier-bl', '/content/prekrasnyi-shampun-dlya-tonkikh-i-oslablennykh-volos', '/content/ya-nashla-idealnyi-dlya-sebya-shampun', '/content/poprobuyu-ispolzovat-regulyarnofoto-shampunya-i-kollektsii-garnier', '/content/podoidet-dlya-tonkikh-oslablennykh-volos-foto', '/content/zamechatelnyi-shampun-49', '/content/sukhie-volosy', '/content/blestyashchii-lyubimchik-s-almaznoi-pudroi-kotoromu-moi-volosy-rady-uzhe-3-goda', '/content/myagkii-i-pushistyi-kak-popa-khomyaka', '/content/teper-v-spiske-lyubimchikov-foto-rezultata', '/content/shampun-ot-nivea-vytesnil-s-polki-moego-prezhnego-favorita', '/content/neozhidanno-khoroshii-shampun-1', '/content/pridaet-volosam-shelkovistost', '/content/idealnoe-sredstvo-dlya-moikh-volos-1', '/content/luchshe-lyuksa-3', '/content/normalnyi-shampun-49', '/content/volosy-lezut-klokami-i-vyzyvayut-paniku-shampun-headshoulders-obeshchaet-nam-bystroe-i-nadez', '/content/zamechatelnyi-shampun-pomogaet-ot-perkhoti-foto-volos-v-otzyve', '/content/100-izbavlenie-ot-perkhoti-za-odin-den-bez-vreda-volosam-rekomenduyu-foto', '/content/vpervye-shampun-headshoulders-mne-deistvitelno-pomog-izbavitsya-ot-perkhoti-foto-volos-sosta', '/content/povyshu-obshchii-reiting-etogo-shampunya-mne-ochen-ponravilsya-ne-samyi-plokhoi-shampun-iz-v', '/content/luchshii-shampun-43', '/content/moi-lyubimyi-shampun-47', '/content/odin-iz-lyubimchikov-foto', '/content/mne-ochen-ponravilsya-177', '/content/moe-lichnoe-mnenie-o-shampune-headshoulders', '/content/moi-geroi-1', '/content/pomogaet-348', '/content/khoroshii-shampuns-ochen-priyatnym-aromatom', '/content/otlichnyi-shampun-rekomenduyu-0', '/content/pomogaet-251', '/content/super-414', '/content/odin-iz-nemnogikh-shampunei-kotoryi-mne-idealno-podkhodit', '/content/moi-volosy-vlyubleny-okonchatelno-i-bespovorotno-mnogo-foto-rezultata-ispolzovaniya-neskolki', '/content/moi-volosy-naglyadno-rasskazhut-vam-podoshel-li-im-shampun-pantene-pro-v-gladkii-shelk-foto', '/content/u-menya-svoya-formula-i-volosy-kak-brilliant-foto-dokazatelstva', '/content/mne-bolshe-ne-nuzhen-utyuzhok-foto-do-i-posle', '/content/balzam-gladkii-shelk-chto-poteryano-v-obeme-vospolneno-v-kachestve-volos-foto', '/content/idealno-ochishchaet-volosy-dazhe-ot-masel-dlya-volos-chto-zhe-eshche-delaet-s-volosami', '/content/shampun-ochen-poradoval-foto-vnutri', '/content/udivitelno-chto-tak-malo-otzyvov-na-balzam-pantene-pro-v-gladkii-shelk', '/content/ne-poimu-poddelka-ili-raznye-sostavy-foto', '/content/idealen-dlya-vyushchikhsya-volos-idealen-dlya-menya', '/content/gladkie-pryamye-poslushnye-volosy', '/content/dlya-menya-idealenfoto-volos-posle-primeneniya', '/content/volosy-takie-gladkie-chto-khochetsya-k-nim-prikasatsya', '/content/kachestvo-shampunya-poradovalo-menya-i-moi-volosy', '/content/ochen-dazhe-nichego-258', '/content/luchshii-iz-vsekh-shampunei-chto-ya-ispolzovala', '/content/idealnoe-sredstvo-ya-vlyubilas-v-nego', '/content/nakonets-ya-nashlo-ego', '/content/na-dannyi-moment-best', '/content/otlichnyi-shampun-171', '/content/kupila-pantene-i-ne-razocharovalas', '/content/eto-klassika-2', '/content/otlichnyi-shampun-118', '/content/otlichnyi-shampun-110']"
   ]
  },
  {
   "cell_type": "code",
   "execution_count": 5,
   "metadata": {},
   "outputs": [],
   "source": [
    "bad_reviews_texts = []\n",
    "good_reviews_texts = []"
   ]
  },
  {
   "cell_type": "markdown",
   "metadata": {},
   "source": [
    "Загрузим ранее сохранённое, чтобы не обкачивать заново:"
   ]
  },
  {
   "cell_type": "code",
   "execution_count": 6,
   "metadata": {},
   "outputs": [],
   "source": [
    "with open('bad_reviews_texts.json', encoding=\"utf-8\") as file:\n",
    "    bad_reviews_texts = json.load(file)\n",
    "\n",
    "with open('good_reviews_texts.json', encoding=\"utf-8\") as file:\n",
    "    good_reviews_texts = json.load(file)"
   ]
  },
  {
   "cell_type": "markdown",
   "metadata": {},
   "source": [
    "выберем отзывы из разных мест списка, чтобы выборка была более сбалансированной, с разными товарами"
   ]
  },
  {
   "cell_type": "code",
   "execution_count": 7,
   "metadata": {},
   "outputs": [],
   "source": [
    "bad_check = []\n",
    "good_check = []\n",
    "for i in range(0, 56, 8):\n",
    "    bad_check.append(bad_reviews_texts[i])\n",
    "    good_check.append(good_reviews_texts[i])\n",
    "for text in bad_check:\n",
    "    bad_reviews_texts.remove(text)\n",
    "for text in good_check:\n",
    "    good_reviews_texts.remove(text)"
   ]
  },
  {
   "cell_type": "code",
   "execution_count": 34,
   "metadata": {},
   "outputs": [
    {
     "name": "stdout",
     "output_type": "stream",
     "text": [
      "7 7\n",
      "43 43\n"
     ]
    }
   ],
   "source": [
    "print(len(bad_check), len(good_check))\n",
    "print(len(good_reviews_texts), len(bad_reviews_texts))"
   ]
  },
  {
   "cell_type": "markdown",
   "metadata": {},
   "source": [
    "### теперь чанкер\n",
    "\n",
    "я хочу выделять \"не + прилагательное\", \"не + глагол\" и \"наречие + глагол\", так как это позволит выделить такие вещи как \"не эффективен\", \"не промывается\", \"плохо/хорошо расчёсывается\" (напоминаю, что мы смотрим отзывы на шампуни, но в целом это объединение должно аналогично работать и для других товаров)"
   ]
  },
  {
   "cell_type": "code",
   "execution_count": 9,
   "metadata": {},
   "outputs": [],
   "source": [
    "our_tags = ['noun','adj','verb','adv','pron','comp','num','prep','conj','prcl','intj','apro']"
   ]
  },
  {
   "cell_type": "code",
   "execution_count": 10,
   "metadata": {},
   "outputs": [],
   "source": [
    "nat_dict = {'ADP': 'prep',\n",
    "            'PROPN': 'noun',\n",
    "            'AUX': 'verb',\n",
    "            'DET': 'apro',\n",
    "            'PART': 'prcl',\n",
    "            'SCONJ': 'conj',\n",
    "            'CCONJ': 'conj',\n",
    "            'PUNCT': 'punct'\n",
    "           }\n",
    "\n",
    "\n",
    "def nat_tags(token):\n",
    "    if 'Degree' in token.feats and token.feats['Degree'] == 'Cmp':\n",
    "        return 'comp'\n",
    "    \n",
    "    tag = token.pos\n",
    "    if tag.lower() in our_tags:\n",
    "        return tag.lower()\n",
    "    \n",
    "    elif tag in nat_dict:\n",
    "        new_tag = nat_dict[tag]        \n",
    "        return new_tag\n",
    "    \n",
    "    else:\n",
    "        return tag"
   ]
  },
  {
   "cell_type": "code",
   "execution_count": 11,
   "metadata": {},
   "outputs": [],
   "source": [
    "from natasha import (\n",
    "    Segmenter,\n",
    "    MorphVocab,\n",
    "    \n",
    "    NewsEmbedding,\n",
    "    NewsMorphTagger,\n",
    "    Doc\n",
    ")\n",
    "\n",
    "segmenter = Segmenter()\n",
    "morph_vocab = MorphVocab()\n",
    "emb = NewsEmbedding()\n",
    "morph_tagger = NewsMorphTagger(emb)"
   ]
  },
  {
   "cell_type": "code",
   "execution_count": 12,
   "metadata": {},
   "outputs": [],
   "source": [
    "def chunker(text):\n",
    "    doc = Doc(text)\n",
    "    doc.segment(segmenter)\n",
    "    doc.tag_morph(morph_tagger)\n",
    "    nat_tokens = []\n",
    "    for sent in doc.sents:\n",
    "        a = sent.morph\n",
    "        for token in a.tokens:\n",
    "            tag = nat_tags(token)\n",
    "            if tag not in ['punct']:\n",
    "                nat_tokens.append((token.text, tag))\n",
    "    \n",
    "    long_token = []\n",
    "    new_tokens = []\n",
    "    \n",
    "    for token in nat_tokens:\n",
    "        if long_token == []:\n",
    "            if (token[0] == 'не' or token[1] == 'adv'):\n",
    "                long_token.append(token)\n",
    "            else:\n",
    "                new_tokens.append(token[0])\n",
    "                #print(token)\n",
    "        else:\n",
    "            if long_token[0][1] == 'adv' and token[1] == 'verb':\n",
    "                long_token.append(token)\n",
    "                new_tokens.append(long_token[0][0] + ' ' + long_token[1][0])\n",
    "                #print(long_token)\n",
    "                long_token = []\n",
    "            elif long_token[0][0] == 'не' and token[1] in ['verb','adj']:\n",
    "                long_token.append(token)\n",
    "                new_tokens.append(long_token[0][0] + ' ' + long_token[1][0])\n",
    "                #print(long_token)\n",
    "                long_token = []\n",
    "            else:\n",
    "                new_tokens.append(long_token[0][0])\n",
    "                #print(long_token)\n",
    "                long_token = []\n",
    "                if (token[0] == 'не' or token[1] == 'adv'):\n",
    "                    long_token.append(token)\n",
    "                else:\n",
    "                    new_tokens.append(token[0])\n",
    "                    #print(token)\n",
    "    \n",
    "    return new_tokens"
   ]
  },
  {
   "cell_type": "markdown",
   "metadata": {},
   "source": [
    "Функция, которая выделяет из текста страницы список лемм (уже новых)"
   ]
  },
  {
   "cell_type": "code",
   "execution_count": 13,
   "metadata": {},
   "outputs": [],
   "source": [
    "def parse_review(raw_text):\n",
    "    html_content = raw_text.split('сообщить о нарушении')[0]\n",
    "    html_content = html_content.split('Опубликовано')[-1]\n",
    "    html_content = html_content.split('Достоинства')[0]\n",
    "    \n",
    "    soup = BeautifulSoup(html_content, 'html.parser')\n",
    "    text = soup.text\n",
    "    \n",
    "    tokens = chunker(text)\n",
    "    return tokens"
   ]
  },
  {
   "cell_type": "code",
   "execution_count": 14,
   "metadata": {},
   "outputs": [],
   "source": [
    "bad_words = []\n",
    "good_words = []"
   ]
  },
  {
   "cell_type": "code",
   "execution_count": 15,
   "metadata": {},
   "outputs": [
    {
     "name": "stderr",
     "output_type": "stream",
     "text": [
      "100%|██████████████████████████████████████████████████████████████████████████████████| 43/43 [00:03<00:00, 11.98it/s]\n"
     ]
    }
   ],
   "source": [
    "for text in tqdm(bad_reviews_texts):\n",
    "    lemmas = parse_review(text)\n",
    "    bad_words.extend(lemmas)"
   ]
  },
  {
   "cell_type": "markdown",
   "metadata": {},
   "source": [
    "аналогично с хорошими словами"
   ]
  },
  {
   "cell_type": "code",
   "execution_count": 16,
   "metadata": {},
   "outputs": [
    {
     "name": "stderr",
     "output_type": "stream",
     "text": [
      "100%|██████████████████████████████████████████████████████████████████████████████████| 43/43 [00:03<00:00, 14.11it/s]\n"
     ]
    }
   ],
   "source": [
    "for text in tqdm(good_reviews_texts):\n",
    "    lemmas = parse_review(text)\n",
    "    good_words.extend(lemmas)"
   ]
  },
  {
   "cell_type": "markdown",
   "metadata": {},
   "source": [
    "Теперь множества с только положительными и только отрицательными словами"
   ]
  },
  {
   "cell_type": "code",
   "execution_count": 17,
   "metadata": {},
   "outputs": [],
   "source": [
    "only_bad = set(bad_words).difference(set(good_words))\n",
    "only_good = set(good_words).difference(set(bad_words))"
   ]
  },
  {
   "cell_type": "markdown",
   "metadata": {},
   "source": [
    "фильтрация по количеству вхождений"
   ]
  },
  {
   "cell_type": "code",
   "execution_count": 18,
   "metadata": {},
   "outputs": [],
   "source": [
    "to_delete = set()\n",
    "for word in only_bad:\n",
    "    if bad_words.count(word) < 2:\n",
    "        to_delete.add(word)"
   ]
  },
  {
   "cell_type": "code",
   "execution_count": 19,
   "metadata": {},
   "outputs": [],
   "source": [
    "bad = only_bad-to_delete"
   ]
  },
  {
   "cell_type": "code",
   "execution_count": 20,
   "metadata": {},
   "outputs": [
    {
     "name": "stdout",
     "output_type": "stream",
     "text": [
      "{'затем', 'продлевает', 'ногти', 'моём', 'не тронутый', 'Лечусь', 'Elisabet', 'не задумываясь', 'скептически', 'случайно глянула', 'понравится', 'радикально остановить', 'химии', 'бутыль', 'р', 'ужасно', 'не восстановил', '69', 'не уменьшает', 'представить', 'Точка', 'распушились', 'лаурилсульфатах', 'замешкалась', 'плакали', 'данных', 'Cocoamphodiacetate', 'красивые', 'любом', 'рассыпчатости', 'журнале', 'не помогает', 'нежели', 'Процедуры', 'керамидами', 'edelweiss', 'начинается', 'желания', 'обычно использую', 'втором', 'АпельсинСпрей', 'Нивея', 'Fragrance', 'рука', 'беседы', 'делают', 'присутствуют', 'sodium', 'не могла', 'не успела', 'версия', 'естественной', 'поэтому наносить', 'выбору', 'Camellia', 'промывают', 'сухих', 'Polyquaternium-30', 'всегда относилась', 'интенсивность', 'Panax', 'Выбор', 'Шикарный', 'Limonum', 'не считается', 'чему', 'внимания', 'Methylpropional', 'не куплю', 'ваших', 'цинк', 'простая', 'Oleth', 'Бигуди', 'усиливает', 'сильная', 'Lemon', 'довольно-таки', 'Несколько', 'мусорку', 'Другие', 'наносится', 'замечать', 'таким', 'гораздо', 'прочего', 'наш', 'Вас', 'заявление', 'отношение', 'такую', 'не планирую', 'недели', 'песочно-жёлтый', 'полы', 'чистой', 'ножницами', 'редкий', 'плохо промывают', 'плюсом', 'шрифтом', 'Молодаямамочка', 'самая', 'Во', 'буквально', 'так изощряться', 'Sugar', 'пора', 'ml', 'лбу', 'хватит', 'мужчины', 'price', 'Hydroxypropyl', 'волосАлерана', 'Ставлю', 'небольшие', 'Подробно', 'её', 'типичный', 'применении', 'мокрыми', 'Сейчас допишу', 'Особенно', 'ароматы', 'повышенная', 'девичьи', 'обзоров', 'Vichy', 'избавлюсь', 'покупке', 'Кажется', 'никакой', 'Холодный', 'берут', 'обламывание', 'корнем', 'не ломает', 'сильно магнитятся', 'среде', 'мужчин', 'подряд пользоваться', 'прямолинейны', 'базируется', 'Cocamide', 'Плюсы', 'Выпадение', 'пытаются', 'не вернусь', 'поредения', '350', 'не рекомендует', 'помогут', 'sulfate', 'отверстие', 'ход', 'лопатки', 'Pyridoxine', 'Laureth-8', 'подойдет', 'также уменьшает', 'электризуютсяЯ', 'видела', 'усиливается', 'ноги', 'не заедает', 'Флакон', 'весной', 'всегда даёт', 'волосАналог', 'laureth', 'дало', 'Kelual', 'эффективен', 'выбирала', 'трихологом', 'отхлопывающаяся', 'Хэд', 'не оказал', 'осознать', '07', 'Январь', 'заметить', 'Дозатор', 'жгутиковым', 'Средство', 'поняла', 'эффективным', 'мимолётно', 'смущает', '51', 'переворачивать', 'масляных', 'популярный', 'сульфат', 'Teezer', 'компонента', 'крышечкой', 'Peel', 'служит', 'себорее', 'Знаю', 'формах', 'впечатление', 'итоге', 'Держать', 'Дизайн', 'масс-маркет', 'Отзыв', 'ОТ', 'помощника', 'Pyrus', 'Hcl', 'появление', 'неудобно', 'Алерана', 'большущую', 'можно купить', 'убить', 'не подходят', 'кожные', 'усвоила', 'вечеру', 'подумать', 'сульфаты', 'цинка', '007', 'сальными', 'линейки', 'жесткость', 'профессиональными', 'head', 'ядрённый', 'везде', 'мягко говоря', 'Итог', 'не сфотографировала', 'не сдержал', 'вымывает', 'химический', 'диагностика', 'Lebel', 'Цинк', 'мыла', 'Экономичность', 'обычного', 'портреты', 'эффективность', 'ожидалось', 'дизайн', 'Malus', 'ожидала', 'добавляют', 'Mipa', 'Officinarum', 'приписка', 'послевкусие', 'Где', 'fix', 'пробник', '06', 'согласитесь', 'не получается', 'сияния', 'Root', 'Шоудерс', 'никакого', 'парадной', 'белого', 'прилавке', 'плане', 'маркетинговый', 'не самая', 'Extract', 'две', 'прочитала', 'упаковках', 'витамин', 'просмотренных', 'вреде', 'так было', 'неприятных', 'масляной', 'Denat', 'наглая', 'интенсивный', 'человека', 'сильнее', 'Наверное', 'сульфатов', 'результаты', 'всей', 'кремовый', 'выкинуть', 'домой', 'Carbomer', 'продуктовом', 'волосПаста', 'кремовое', 'симптомов', '02', '2-Oleamido-1,3-Octadecanediol', 'выполнен', 'Сегодня расскажу', 'реального', 'не почувствовала', 'энд', 'Cane', 'месяц', 'гладкого', 'мужа', 'shoulders', 'Isopropanolamine', 'покрытые', 'отличается', 'лучшая', 'какое-то', 'видимую', 'разводка', 'водоотталкивающие', 'обещания', 'не заворачивалась', 'звездочки', 'не эффективен', 'никому', 'вечером', '400-мл', 'Многие', 'намыливании', 'реально остановить', 'произнести', 'руками', 'поскорееВолосы', 'большом', 'самом', 'труднее', 'таком', 'признаки', 'высохли', 'часов', 'продукции', 'Е', 'секущимися', 'вызывают', 'объёмом', 'отвратительный', 'повторять', 'Ощущения', 'не советую', 'лепить', 'расскажу', 'ей', 'бывают', 'консистенцией', 'приятные', 'понимаю', 'не сталкивалась', 'между', 'Distearate', 'звёзд', 'нём', 'замечала', 'лоб', 'криминального', 'смысл', 'рассчитывала', 'своих', 'вывод', 'трудностями', 'Tangle', 'исправно', 'помыла', 'не изменилось', 'следы', 'Перхоти', 'товары', 'Т', 'удивляет', 'не смывается', 'обещанного', 'скользкое', 'поклонницей', 'лекарственных', 'Где купить', 'не понравился', 'удачные', 'странное', 'настолько', 'видно', 'однажды билась', 'Шампуни', 'Benzyl', 'грязная', 'натуральнее', 'свойственный', 'лаурет-', 'а-ля', 'профиль', 'минусы', 'плоховато', 'компонентов', 'ужас', 'потратился', 'стороной', 'ларьке', 'Недостатки', 'методомТрихоскопия', 'не думайте', 'Dercos', 'не страдала', 'домыла', 'чего-то', 'кремово-цветочный', 'марок', 'Propylene', 'отмены', 'Ducray', 'тугая', 'Хэденшолдерс', 'пух', 'сейчас подхожу', 'не придаёт', 'Hexylene', 'не мыли', 'лысо', 'обещаний', 'рынке', 'мелким', 'удобная', 'не помню', 'Порекомендовать', 'не придиралась', 'усиления', 'Medica', 'побоялась', 'SulfateSodium', 'пакли', '3-5', 'скоростью', 'уже знаю', 'Saccharum', 'печальными', 'закончился', 'не делает', 'лечение', 'не рекомендую', 'нормально', 'судьба', '3-4', 'влияния', 'кремообразная', 'упаковки', 'Мыла', 'алерана', 'не сделал', 'Они', 'обладает', 'фармацевтической', 'обходить', 'расшифровки', 'израсходовался', 'пишу', 'горячими', 'эффекту', 'продолжала', 'приема', 'sulfat', 'новинку', 'Disodium', 'моему', 'Вызывает', 'лекарственные', 'пиритион', 'маркой', 'кололись', 'легко прищемить', 'Hydroxide', 'плохо', 'счет', 'Citrus', 'lauryl', 'открывается', 'отшелушивания', 'поэтому покупая', 'подобные', 'покупок', 'Glycol', 'флаконы', 'шампуням', 'Sinensis', 'годом', 'использование', 'Salicylic', 'хорошего', 'прошлой', 'сальные', 'промахи', 'чесаться', 'Butylphenyl', 'друг', 'хэд', 'не стану', 'смотрят', 'Эх', 'аксессуары', 'вымыют', 'текучая', 'бомба', 'чисто', 'Leaf', 'Средства', 'не достаточно', 'Будьте', 'аромата', 'не побоюсь', 'лезть', 'надежду', 'бутылочки', 'месяце', 'начитана', 'Крышечка', 'жирная', 'шолдерс', 'эффективно устраняет', 'промахе', 'остались', 'красоты', 'помог', 'осторожны', 'быстро расходуется', 'упаковку', 'шелка', 'не рассматривала', 'высушены', 'действительно столкнулся', 'Тем', 'Ginseng', 'этому', 'заурядного', 'отзывы', 'Продержался', 'не мене', '32', 'недель', 'держу', 'Стрижка', 'полезного', 'выкинула', 'Микозорал', 'удачных', 'мужской', 'более-менее', 'прочитанных', 'Fruit', 'Дозатором', 'тип', 'Доброго', 'средствах', 'профилактики', 'дешевле', 'проблемойПроблему', 'ПРИМЕНЕНИЯ', 'Magnesium', 'Сомневаюсь', 'надпись', 'не устраняет', 'щипцами-гофре', 'бандуру', 'Сульсена', 'работает', 'новые', 'прекрасные', 'прекратить', 'Обещание', 'дёготь', 'Пилинг-очиститель', 'средств', 'Тогда', 'уже рассказывала', 'пол', 'Добро', 'пожаловать', '05', 'Niacinamide', 'салицилка', 'жесткими', 'недостоин', 'Water', '54', 'час', 'внушить', 'причине', 'ощущения', 'обследования', 'текстура', 'пальцы'}\n"
     ]
    }
   ],
   "source": [
    "print(bad)"
   ]
  },
  {
   "cell_type": "code",
   "execution_count": 21,
   "metadata": {},
   "outputs": [],
   "source": [
    "to_delete = set()\n",
    "for word in only_good:\n",
    "    if good_words.count(word) < 2:\n",
    "        to_delete.add(word)"
   ]
  },
  {
   "cell_type": "code",
   "execution_count": 22,
   "metadata": {},
   "outputs": [],
   "source": [
    "good = only_good-to_delete"
   ]
  },
  {
   "cell_type": "code",
   "execution_count": 23,
   "metadata": {},
   "outputs": [
    {
     "name": "stdout",
     "output_type": "stream",
     "text": [
      "{'БАЛЬЗАМ', 'Hydrogenated', 'вода', 'подходящий', 'блонд', '30', 'скрипа', 'Кожа', 'опытом', 'PEG-40', 'цветочный', 'перестали', 'естественно', 'Придает', 'обладательница', 'маску', 'пару', 'живые', 'Macadamia', 'Информация', 'небольшой', 'бутылочкой', 'избавление', 'очередь', 'нанести', 'супер', 'Только', 'кончиков', 'Идеальное', 'не люблю', 'Стоит', 'тьфу', 'не сушит', 'здоровый', 'свой', 'необходимо', 'место', 'не жирнит', 'Очищает', 'Polyquaternium-10', 'которым', 'Pro-V', 'задачи', 'возникает', '165', 'Приветствую', 'лимон', 'Никаких', 'енд', 'Мое', 'данным', 'не остается', 'очень нравятся', 'своя', 'уходом', 'нежный', 'маслом', 'искать', 'своей', 'антисептик', 'Замечательный', 'запахом', 'Пантином', 'насчет', 'спустя', 'регулярно использовать', 'смывании', 'Cocamidopropyl', 'чур', 'стороне', 'прежний', 'стабилизатор', 'средству', 'рацион', 'Вывод', 'Зачем', 'радуют', 'те', 'экстрактом', 'лично', 'Elseve', 'Имеет', 'результатом', 'содержится', 'Феном', 'интересно', 'обладательницей', 'устраивает', 'полной', 'прямые', 'годности', 'пробовала', 'тебя', 'дарит', 'реакций', 'сохраняется', 'Castor', 'раздражение', 'Powder', 'не ожидала', 'большого', 'поликватерниум', 'здесь', 'порадовало', 'пудра', 'бывает', 'чёлка', 'утяжеляет', 'шампунях', 'также', 'которое', 'Отличный', 'Хочу', 'не возникло', 'эвкалипта', 'мягкость', 'Хороший', 'Наверно', 'кондиционера', 'делает', 'Ultra', 'Хорошо', 'легко расчесываются', 'хорошем', 'не густой', 'тусклые', 'доброго', 'известная', 'Ее', 'Краска', 'прежнего', 'привет', 'L', 'применений', '47', 'консервант', 'микрочастицами', 'натрия', 'выбирать', 'SLES', 'Забота', 'прозрачного', 'способность', 'период', 'белая', 'не пушит', 'пользуется', 'снова', 'подходят', 'Гладким', 'вьющихся', 'Оставляю', 'объёме', 'млМесто', 'ухаживает', 'появился', 'макадамии', 'последствий', 'прикасаться', 'вами', 'приходилось', 'Блестящий', 'наносить', 'тщательно смыть', 'крышкой', 'влюбилась', 'главный', 'которому', 'раздражения', 'болячек', 'причин', 'Вашим', 'убеждения', 'экспериментов', 'бороться', 'HS', '300', 'тубе', 'помогал', 'комнате', 'высыхания', 'Закончился', 'бутылочка', 'нейтрализация', 'количества', 'полки', 'OREAL', 'сильно пушатся', '2010', 'бутылки', 'сушиться', 'чтоб', 'Doux', 'не блестели', 'отличие', 'вашим', 'Lanolin', 'относительно', 'отзыве', 'муж', 'глупо', 'хлорид', 'Иногда', 'окрашивания', '5,5', 'Seed', 'будут', 'очень понравился', 'Gliss', 'ингредиенты', 'спирта', 'Помогает', 'чередую', 'получается', 'часто', 'взять', 'показалось', 'специальных', 'pH', 'вьющимися', 'длинных', 'сменить', 'обещаниями', 'шоулдерс', 'проблемам', '38', 'секущихся', 'Воздействие', 'алмазная', 'идеален', 'никаких', 'подошел', 'недорого', 'Могу', 'Diamond', '40', 'солома', 'Такой', 'выпускали', 'каким', 'смягчает', 'разглаживает', 'питает', 'не влияет', 'Ternifolia', 'Расход', 'помимо', 'Kur', 'невероятно', 'Состояние', 'не пересушивает', 'Загуститель', 'всеми', 'наиболее', 'важен', 'смотреть', 'хорошим', 'шелком', 'хотела', 'кому-то', 'улучшает', 'вязкости', 'Шелк', 'эликсир', 'Oil', 'шелковистыми', 'довольна', 'выше', 'месяцев', 'мягкая', 'Текстура', 'фаворита', 'желтизны', 'предотвращает', 'чистота', 'разнообразие', 'ПЕРХОТЬ', 'ПАВ', 'Ещё', 'очищения', 'временем', 'Обеспечивает', 'знали', 'воды', 'хед', 'хочет', 'не спутываются', 'мягко', 'экономичен', 'СУПЕР', 'Шёлк', 'не представляю', 'легкое', 'кондиционирует', 'не помогали', 'Пользуюсь', 'результата', 'Betaine', 'питания', 'Просто', '70', 'капли', 'не утяжеляет', 'антистатик', 'блеском', 'Beiersdorf', 'какие-либо', 'смыслах', 'нашла', 'ждать', 'не вызывает', 'сам', 'идеально', 'словно', 'девушек', 'чувствительная', 'эмульгатор', 'вспенить', 'магазинах', 'предпочтение', 'ним', 'причина', 'куча', 'Limonene', 'словами', 'уходит'}\n"
     ]
    }
   ],
   "source": [
    "print(good)"
   ]
  },
  {
   "cell_type": "markdown",
   "metadata": {},
   "source": [
    "функция, угадывающая, является ли отзыв хорошим"
   ]
  },
  {
   "cell_type": "code",
   "execution_count": 24,
   "metadata": {},
   "outputs": [],
   "source": [
    "def if_good(lemmas):\n",
    "    bad_count = 0\n",
    "    good_count = 0\n",
    "    for lemma in lemmas:\n",
    "        if lemma in bad:\n",
    "            bad_count += 1\n",
    "        if lemma in good:\n",
    "            good_count += 1\n",
    "    print('количество плохих слов:', bad_count,', количество хороших слов:', good_count)\n",
    "    if bad_count > good_count:\n",
    "        print('bad')\n",
    "        return 'bad'\n",
    "    else:\n",
    "        print('good')\n",
    "        return 'good'"
   ]
  },
  {
   "cell_type": "code",
   "execution_count": 25,
   "metadata": {},
   "outputs": [],
   "source": [
    "tp = 0\n",
    "tn = 0\n",
    "fp = 0\n",
    "fn = 0"
   ]
  },
  {
   "cell_type": "code",
   "execution_count": 26,
   "metadata": {},
   "outputs": [
    {
     "name": "stdout",
     "output_type": "stream",
     "text": [
      "количество плохих слов: 13 , количество хороших слов: 2\n",
      "bad\n",
      "количество плохих слов: 3 , количество хороших слов: 4\n",
      "good\n",
      "количество плохих слов: 4 , количество хороших слов: 4\n",
      "good\n",
      "количество плохих слов: 5 , количество хороших слов: 7\n",
      "good\n",
      "количество плохих слов: 2 , количество хороших слов: 0\n",
      "bad\n",
      "количество плохих слов: 2 , количество хороших слов: 1\n",
      "bad\n",
      "количество плохих слов: 6 , количество хороших слов: 0\n",
      "bad\n"
     ]
    }
   ],
   "source": [
    "for review in bad_check:\n",
    "    ans = if_good(parse_review(review))\n",
    "    if ans == 'bad':\n",
    "        tn += 1\n",
    "    else:\n",
    "        fp +=1"
   ]
  },
  {
   "cell_type": "code",
   "execution_count": 27,
   "metadata": {},
   "outputs": [
    {
     "name": "stdout",
     "output_type": "stream",
     "text": [
      "количество плохих слов: 5 , количество хороших слов: 7\n",
      "good\n",
      "количество плохих слов: 11 , количество хороших слов: 15\n",
      "good\n",
      "количество плохих слов: 17 , количество хороших слов: 19\n",
      "good\n",
      "количество плохих слов: 7 , количество хороших слов: 4\n",
      "bad\n",
      "количество плохих слов: 3 , количество хороших слов: 3\n",
      "good\n",
      "количество плохих слов: 4 , количество хороших слов: 10\n",
      "good\n",
      "количество плохих слов: 2 , количество хороших слов: 4\n",
      "good\n"
     ]
    }
   ],
   "source": [
    "for review in good_check:\n",
    "    ans = if_good(parse_review(review))\n",
    "    if ans == 'good':\n",
    "        tp += 1\n",
    "    else:\n",
    "        fn += 1"
   ]
  },
  {
   "cell_type": "code",
   "execution_count": 28,
   "metadata": {},
   "outputs": [
    {
     "name": "stdout",
     "output_type": "stream",
     "text": [
      "0.7142857142857143\n"
     ]
    }
   ],
   "source": [
    "accuracy = (tn+tp)/(tn+tp+fn+fp)\n",
    "print(accuracy)"
   ]
  },
  {
   "cell_type": "markdown",
   "metadata": {},
   "source": [
    "А теперь уберём фильтрацию и посмотрим, что будет"
   ]
  },
  {
   "cell_type": "code",
   "execution_count": 29,
   "metadata": {},
   "outputs": [],
   "source": [
    "def if_good2(lemmas):\n",
    "    bad_count = 0\n",
    "    good_count = 0\n",
    "    for lemma in lemmas:\n",
    "        if lemma in only_bad:\n",
    "            bad_count += 1\n",
    "        if lemma in only_good:\n",
    "            good_count += 1\n",
    "    print('количество плохих слов:', bad_count,', количество хороших слов:', good_count)\n",
    "    if bad_count > good_count:\n",
    "        print('bad')\n",
    "        return 'bad'\n",
    "    else:\n",
    "        print('good')\n",
    "        return 'good'"
   ]
  },
  {
   "cell_type": "code",
   "execution_count": 30,
   "metadata": {},
   "outputs": [],
   "source": [
    "tp = 0\n",
    "tn = 0\n",
    "fp = 0\n",
    "fn = 0"
   ]
  },
  {
   "cell_type": "code",
   "execution_count": 31,
   "metadata": {},
   "outputs": [
    {
     "name": "stdout",
     "output_type": "stream",
     "text": [
      "количество плохих слов: 22 , количество хороших слов: 11\n",
      "bad\n",
      "количество плохих слов: 10 , количество хороших слов: 10\n",
      "good\n",
      "количество плохих слов: 12 , количество хороших слов: 10\n",
      "bad\n",
      "количество плохих слов: 19 , количество хороших слов: 16\n",
      "bad\n",
      "количество плохих слов: 9 , количество хороших слов: 6\n",
      "bad\n",
      "количество плохих слов: 6 , количество хороших слов: 14\n",
      "good\n",
      "количество плохих слов: 8 , количество хороших слов: 4\n",
      "bad\n"
     ]
    }
   ],
   "source": [
    "for review in bad_check:\n",
    "    ans = if_good2(parse_review(review))\n",
    "    if ans == 'bad':\n",
    "        tn += 1\n",
    "    else:\n",
    "        fp +=1"
   ]
  },
  {
   "cell_type": "code",
   "execution_count": 32,
   "metadata": {},
   "outputs": [
    {
     "name": "stdout",
     "output_type": "stream",
     "text": [
      "количество плохих слов: 14 , количество хороших слов: 12\n",
      "bad\n",
      "количество плохих слов: 39 , количество хороших слов: 40\n",
      "good\n",
      "количество плохих слов: 41 , количество хороших слов: 50\n",
      "good\n",
      "количество плохих слов: 10 , количество хороших слов: 10\n",
      "good\n",
      "количество плохих слов: 4 , количество хороших слов: 5\n",
      "good\n",
      "количество плохих слов: 10 , количество хороших слов: 15\n",
      "good\n",
      "количество плохих слов: 10 , количество хороших слов: 12\n",
      "good\n"
     ]
    }
   ],
   "source": [
    "for review in good_check:\n",
    "    ans = if_good2(parse_review(review))\n",
    "    if ans == 'good':\n",
    "        tp += 1\n",
    "    else:\n",
    "        fn += 1"
   ]
  },
  {
   "cell_type": "code",
   "execution_count": 33,
   "metadata": {},
   "outputs": [
    {
     "name": "stdout",
     "output_type": "stream",
     "text": [
      "0.7857142857142857\n"
     ]
    }
   ],
   "source": [
    "accuracy = (tn+tp)/(tn+tp+fn+fp)\n",
    "print(accuracy)"
   ]
  },
  {
   "cell_type": "markdown",
   "metadata": {},
   "source": [
    "Выводы: выборка довольно маленькая, поэтому фильтрация ухудшала результат (удалялись полезные токены, которые просто не успели встретиться больше раз)\n",
    "\n",
    "В предыдущей версии программы accuracy была 0,57. Сравнение не совсем корректно, так как с прошлого раза код немного изменился (выборка стала больше, возможно, ещё какие-то небольшие изменения), поэтому я посчитала заново, в прошлой версии кода 0,5, в этой (с той же выборкой, просто со словосочетаниями) 0,71. Без фильтрации 0,64 и 0,79 соответственно"
   ]
  }
 ],
 "metadata": {
  "kernelspec": {
   "display_name": "Python 3",
   "language": "python",
   "name": "python3"
  },
  "language_info": {
   "codemirror_mode": {
    "name": "ipython",
    "version": 3
   },
   "file_extension": ".py",
   "mimetype": "text/x-python",
   "name": "python",
   "nbconvert_exporter": "python",
   "pygments_lexer": "ipython3",
   "version": "3.8.2"
  }
 },
 "nbformat": 4,
 "nbformat_minor": 4
}
