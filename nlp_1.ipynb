{
 "cells": [
  {
   "cell_type": "code",
   "execution_count": 1,
   "metadata": {},
   "outputs": [],
   "source": [
    "import requests\n",
    "from bs4 import BeautifulSoup\n",
    "from fake_useragent import UserAgent\n",
    "import nltk\n",
    "from nltk.tokenize import word_tokenize\n",
    "from pymorphy2 import MorphAnalyzer\n",
    "from tqdm import tqdm\n",
    "import time\n",
    "import random\n",
    "import json"
   ]
  },
  {
   "cell_type": "markdown",
   "metadata": {},
   "source": [
    "UserAgent - чтобы обходить блокировку краулера сайтом (спойлер: не поможет)\n",
    "\n",
    "Сайт давал скачать примерно 10 страниц каждые полчаса, поэтому я не стала искать другой сайт или более сложные пути обхода, а просто собрала данные по частям"
   ]
  },
  {
   "cell_type": "code",
   "execution_count": 2,
   "metadata": {},
   "outputs": [],
   "source": [
    "session = requests.session()\n",
    "\n",
    "ua = UserAgent(verify_ssl=False)\n",
    "headers = {'User-Agent': ua.random}"
   ]
  },
  {
   "cell_type": "markdown",
   "metadata": {},
   "source": [
    "Список из 4 шампуней, отзывы на которых возьмём"
   ]
  },
  {
   "cell_type": "code",
   "execution_count": 3,
   "metadata": {},
   "outputs": [],
   "source": [
    "bad_reviews_links = []\n",
    "good_reviews_links = []\n",
    "\n",
    "shampoos = ['https://irecommend.ru/content/shampun-garnier-fructis-obem-i-vosstanovlenie-ekstralegkost-dlya-tonkikh-oslablennykh-volos',\n",
    "           'https://irecommend.ru/content/shampun-nivea-shampun-ukhod-siyanie-i-obem',\n",
    "           'https://irecommend.ru/content/shampun-ot-perkhoti-headshoulders-protiv-vypadeniya-volos',\n",
    "           'https://irecommend.ru/content/shampun-pantene-pro-v-novaya-formula-gladkii-shelk']"
   ]
  },
  {
   "cell_type": "markdown",
   "metadata": {},
   "source": [
    "Функция, находящая все ссылки на отзывы из страницы продукта и определяющая, хороший отзыв или плохой. Плохими считались отзывы от 3 звёзд и ниже, хорошими - только 5 звёзд. Отзывы на 4 звезды не рассматривались, так как в них, как правило, подробно описывают и положительные и отрицательные стороны, и такой отзыв сложно назвать только положительным или только отрицательным, поэтому они могут испортить выборку, и я не стала их брать."
   ]
  },
  {
   "cell_type": "code",
   "execution_count": 4,
   "metadata": {},
   "outputs": [],
   "source": [
    "def find_reviews(url):\n",
    "    response = session.get(url, headers=headers)\n",
    "    html_content = response.text.split('Смотрите также')[0]\n",
    "    \n",
    "    soup = BeautifulSoup(html_content, 'html.parser')\n",
    "    news = soup.find_all('div', {'class': 'smTeaser woProduct plate reviews-list-item teaser-item'})\n",
    "    \n",
    "    links = []\n",
    "    for new in news:\n",
    "        stars = new.find('div', {'class': 'starsRating'})\n",
    "        if stars:\n",
    "            stars_num = len(str(stars).split('on')) - 1\n",
    "            link = new.find('div', {'class': 'reviewTitle'})\n",
    "            href = link.find('a').attrs['href']\n",
    "            if stars_num < 4:\n",
    "                bad_reviews_links.append(href)\n",
    "            elif stars_num > 4:\n",
    "                good_reviews_links.append(href)\n",
    "    return links"
   ]
  },
  {
   "cell_type": "code",
   "execution_count": 5,
   "metadata": {},
   "outputs": [
    {
     "name": "stdout",
     "output_type": "stream",
     "text": [
      "56 59\n"
     ]
    }
   ],
   "source": [
    "for link in shampoos:\n",
    "    find_reviews(link)\n",
    "    time.sleep(random.uniform(1.1, 5.2))\n",
    "print(len(good_reviews_links), len(bad_reviews_links))"
   ]
  },
  {
   "cell_type": "markdown",
   "metadata": {},
   "source": [
    "(это списки из работы кода выше, но из-за блокировок вместо повторного запуска кода загрузим сохранённые)"
   ]
  },
  {
   "cell_type": "code",
   "execution_count": 4,
   "metadata": {},
   "outputs": [],
   "source": [
    "bad_reviews_links = ['/content/sploshnoe-vrane-foto-obeshchanii-i-emotsii', '/content/i-gde-zhe-moi-obem-i-vosstanovlenie', '/content/ne-sdelal-volosy-obemnee-ne-vosstanovil-ikh-zato-ulybnul-bredovymi-instrumentalnymi-testami', '/content/obem-moim-tonkim-dlinnym-volosam-deistvitelno-pridal-foto-posle-ispolzovaniya', '/content/ispolzovala-dlya-smyvaniya-maslyanykh-masok-i-prosto-na-kazhdyi-den-moe-mnenie', '/content/legkost-volos-mozhet-byt-vse-zhe-pushistost-eshche-nepromytost', '/content/ekhkak-ya-lyublyu-zapakh-etogo-shampunya-zhal-no-posle-takogo-pridetsya-perestat-im-polzovat', '/content/ne-dlya-moikh-volos-navernoe-khotya-ne-znayu-dazhefoto-posle-mytya', '/content/razocharovanie-528', '/content/vosstanavlivayu-im-poly', '/content/intuitsiya-ne-podvela-1', '/content/snachala-khoroshopotom-uzhasno', '/content/topolinyi-pukh-zhara-iyun-eto-ya-pro-svoi-volosy-posle-mytya-shampunem-nivea-siyanie-i-obem', '/content/shampun-etot-ochen-strannyi-predmet-volosy-chistye-golova-net', '/content/vmesto-brilliantovogo-bleska-i-obema-poluchila-zhestkie-volosy-obem-i-blesk-zabyli-nalit-vo', '/content/dva-minusa-kotorye-zastavili-menya-prekratit-ispolzovanie-dannogo-shampunya', '/content/kraine-nepriyatnyi-effekt-ot-shampunya', '/content/neplokhoi-shampun-no-minus-est-dlya-moikh-volos-ogromnyi', '/content/ziyayushchii-proval-obeshchannogo-siyaniya', '/content/deistvitelno-li-ukhod-i-siyanie', '/content/ot-perkhoti-da-eshche-i-ot-vypadeniya-tak-li-effektiven-pirition-tsinka-kak-nam-pytayutsya-v', '/content/dazhe-nogi-im-myt-ne-stanu-podrobno-rasskazhu-pochemu', '/content/dazhe-i-ne-dumaite-pokupat', '/content/khotite-prekrasnye-issushennye-volosy-i-zhirnye-korni-na-sleduyushchii-dentogdavam-opredelen', '/content/ocherednoe-razocharovanie-veka-chuda-ne-proizoshlo', '/content/net-razmyshleniya-o-marketingovykh-khodakh-odnogo-strannogo-cheloveka', '/content/momentalnyi-effekt-gryaznykh-volos', '/content/budte-ostorozhny-69', '/content/ne-shampun-razocharovanie-0', '/content/ni-ot-perkhoti-ni-ot-vypadeniya-volos-ne-pomogaet', '/content/tak-mnogo-minusov-tak-malo-plyusov', '/content/volosy-stali-vypadat-eshche-bolshe-0', '/content/strannyi-effekt-ubral-perkhot-i-vysushil-i-bez-togo-sukhie-volosy-i-vse-eto-za-odno-primenen', '/content/shampun-isportilsya', '/content/ne-rekomenduyu-1579', '/content/otlichnyi-shampun-432', '/content/vyzyvaet-perkhot-3', '/content/proizvoditeli-opechatalis-ne-protiv-perkhoti-dlya-perkhoti', '/content/chem-dorozhe-tem-kruche-reklama', '/content/ne-ot-vypadeniya-dlya-vypadeniya', '/content/shampun-kak-shampun-5', '/content/uzhasnyi-shampun-96', '/content/ekhpantinnu-ne-sudba-tak-ne-sudbaotzyv-iz-razryadaezhiki-plakalikololisno-prodolzhali-est-ka', '/content/yavno-ne-dlya-chastogo-ispolzovaniya-foto-volos', '/content/ves-lob-v-pryshchakh-foto-shampunya', '/content/pakli-na-golove-byli-pakli-i-ostalis-shampun-ne-sdelal-nichego', '/content/ne-dumala-chto-shelk-vyglyadit-tak', '/content/volosy-neplokho-vyglyadyat-posle-etogo-shampunyano-k-sozhaleniyu-u-nego-uzhasnyi-khimicheski', '/content/vse-chto-ugodno-tolko-ne-shelk', '/content/nachali-lezt-volosy-0', '/content/poyavilas-perkhot-13', '/content/shampun-etoi-serii-ne-vpechatlil-balzam-super', '/content/uzhasnyikak-vse-serii-pantene-pro-v', '/content/moi-verdikt', '/content/okh-i-nadoeli-oni-s-etimi-novymi-formulami', '/content/ostavlyaet-zhelat-luchshego-15', '/content/shelka-chto-ne-vidno', '/content/gladkii-shelk-nesootvetstvie-kakoe', '/content/poyavilas-perkhot-2']"
   ]
  },
  {
   "cell_type": "code",
   "execution_count": 5,
   "metadata": {},
   "outputs": [],
   "source": [
    "good_reviews_links = ['/content/i-vse-ravno-periodicheski-ruki-tyanutsya-kupit-znamenituyu-zelenuyu-butylochku-ot-garnier-bl', '/content/prekrasnyi-shampun-dlya-tonkikh-i-oslablennykh-volos', '/content/ya-nashla-idealnyi-dlya-sebya-shampun', '/content/poprobuyu-ispolzovat-regulyarnofoto-shampunya-i-kollektsii-garnier', '/content/podoidet-dlya-tonkikh-oslablennykh-volos-foto', '/content/zamechatelnyi-shampun-49', '/content/sukhie-volosy', '/content/blestyashchii-lyubimchik-s-almaznoi-pudroi-kotoromu-moi-volosy-rady-uzhe-3-goda', '/content/myagkii-i-pushistyi-kak-popa-khomyaka', '/content/teper-v-spiske-lyubimchikov-foto-rezultata', '/content/shampun-ot-nivea-vytesnil-s-polki-moego-prezhnego-favorita', '/content/neozhidanno-khoroshii-shampun-1', '/content/pridaet-volosam-shelkovistost', '/content/idealnoe-sredstvo-dlya-moikh-volos-1', '/content/luchshe-lyuksa-3', '/content/normalnyi-shampun-49', '/content/volosy-lezut-klokami-i-vyzyvayut-paniku-shampun-headshoulders-obeshchaet-nam-bystroe-i-nadez', '/content/zamechatelnyi-shampun-pomogaet-ot-perkhoti-foto-volos-v-otzyve', '/content/100-izbavlenie-ot-perkhoti-za-odin-den-bez-vreda-volosam-rekomenduyu-foto', '/content/vpervye-shampun-headshoulders-mne-deistvitelno-pomog-izbavitsya-ot-perkhoti-foto-volos-sosta', '/content/povyshu-obshchii-reiting-etogo-shampunya-mne-ochen-ponravilsya-ne-samyi-plokhoi-shampun-iz-v', '/content/luchshii-shampun-43', '/content/moi-lyubimyi-shampun-47', '/content/odin-iz-lyubimchikov-foto', '/content/mne-ochen-ponravilsya-177', '/content/moe-lichnoe-mnenie-o-shampune-headshoulders', '/content/moi-geroi-1', '/content/pomogaet-348', '/content/khoroshii-shampuns-ochen-priyatnym-aromatom', '/content/otlichnyi-shampun-rekomenduyu-0', '/content/super-414', '/content/odin-iz-nemnogikh-shampunei-kotoryi-mne-idealno-podkhodit', '/content/moi-volosy-vlyubleny-okonchatelno-i-bespovorotno-mnogo-foto-rezultata-ispolzovaniya-neskolki', '/content/moi-volosy-naglyadno-rasskazhut-vam-podoshel-li-im-shampun-pantene-pro-v-gladkii-shelk-foto', '/content/u-menya-svoya-formula-i-volosy-kak-brilliant-foto-dokazatelstva', '/content/mne-bolshe-ne-nuzhen-utyuzhok-foto-do-i-posle', '/content/balzam-gladkii-shelk-chto-poteryano-v-obeme-vospolneno-v-kachestve-volos-foto', '/content/idealno-ochishchaet-volosy-dazhe-ot-masel-dlya-volos-chto-zhe-eshche-delaet-s-volosami', '/content/udivitelno-chto-tak-malo-otzyvov-na-balzam-pantene-pro-v-gladkii-shelk', '/content/shampun-ochen-poradoval-foto-vnutri', '/content/ne-poimu-poddelka-ili-raznye-sostavy-foto', '/content/idealen-dlya-vyushchikhsya-volos-idealen-dlya-menya', '/content/gladkie-pryamye-poslushnye-volosy', '/content/dlya-menya-idealenfoto-volos-posle-primeneniya', '/content/volosy-takie-gladkie-chto-khochetsya-k-nim-prikasatsya', '/content/kachestvo-shampunya-poradovalo-menya-i-moi-volosy', '/content/ochen-dazhe-nichego-258', '/content/luchshii-iz-vsekh-shampunei-chto-ya-ispolzovala', '/content/idealnoe-sredstvo-ya-vlyubilas-v-nego', '/content/nakonets-ya-nashlo-ego', '/content/na-dannyi-moment-best', '/content/otlichnyi-shampun-171', '/content/kupila-pantene-i-ne-razocharovalas', '/content/eto-klassika-2', '/content/otlichnyi-shampun-118', '/content/otlichnyi-shampun-110']"
   ]
  },
  {
   "cell_type": "markdown",
   "metadata": {},
   "source": [
    "выберем отзывы из разных мест списка, чтобы выборка была более сбалансированной, с разными товарами"
   ]
  },
  {
   "cell_type": "code",
   "execution_count": 6,
   "metadata": {},
   "outputs": [],
   "source": [
    "bad_check = []\n",
    "good_check = []\n",
    "for i in range(0, 56, 8):\n",
    "    bad_check.append(bad_reviews_links[i])\n",
    "    good_check.append(good_reviews_links[i])\n",
    "for link in bad_check:\n",
    "    bad_reviews_links.remove(link)\n",
    "for link in good_check:\n",
    "    good_reviews_links.remove(link)"
   ]
  },
  {
   "cell_type": "code",
   "execution_count": 7,
   "metadata": {},
   "outputs": [
    {
     "name": "stdout",
     "output_type": "stream",
     "text": [
      "7 7\n",
      "49 52\n"
     ]
    }
   ],
   "source": [
    "print(len(bad_check), len(good_check))\n",
    "print(len(good_reviews_links), len(bad_reviews_links))"
   ]
  },
  {
   "cell_type": "code",
   "execution_count": 8,
   "metadata": {},
   "outputs": [],
   "source": [
    "from nltk.tokenize import RegexpTokenizer\n",
    "tokenizer = RegexpTokenizer(r'\\w+')\n",
    "morph = MorphAnalyzer()"
   ]
  },
  {
   "cell_type": "markdown",
   "metadata": {},
   "source": [
    "Функция, которая выделяет из страницы с отзывом текст, токенизирует его, приводит к нижнему регистру и начальной форме"
   ]
  },
  {
   "cell_type": "code",
   "execution_count": 9,
   "metadata": {},
   "outputs": [],
   "source": [
    "def parse_review(url):\n",
    "    headers = {'User-Agent': ua.random}\n",
    "    response = session.get(url, headers=headers)\n",
    "    html_content = response.text.split('сообщить о нарушении')[0]\n",
    "    html_content = html_content.split('Опубликовано')[-1]\n",
    "    html_content = html_content.split('Достоинства')[0]\n",
    "    \n",
    "    soup = BeautifulSoup(html_content, 'html.parser')\n",
    "    text = soup.text\n",
    "    \n",
    "    tokens = tokenizer.tokenize(text)\n",
    "    lemmas = []\n",
    "    for token in tokens:\n",
    "        token = token.lower()\n",
    "        analyze = morph.parse(token)[0]\n",
    "        lemmas.append(analyze.normal_form)\n",
    "    return lemmas"
   ]
  },
  {
   "cell_type": "code",
   "execution_count": 10,
   "metadata": {},
   "outputs": [],
   "source": [
    "bad_words = []\n",
    "good_words = []"
   ]
  },
  {
   "cell_type": "markdown",
   "metadata": {},
   "source": [
    "Из-за блокировки загрузим уже обработанное раньше"
   ]
  },
  {
   "cell_type": "code",
   "execution_count": 11,
   "metadata": {},
   "outputs": [],
   "source": [
    "with open('bad_words.json', encoding=\"utf-8\") as file:\n",
    "    bad_words = json.load(file)"
   ]
  },
  {
   "cell_type": "code",
   "execution_count": 64,
   "metadata": {
    "collapsed": true
   },
   "outputs": [
    {
     "name": "stderr",
     "output_type": "stream",
     "text": [
      "\r",
      "  0%|                                                                                           | 0/15 [00:00<?, ?it/s]"
     ]
    },
    {
     "name": "stdout",
     "output_type": "stream",
     "text": [
      "['24', 'январь', '2015', '15', '32', 'хотеть', 'прекрасный', 'иссушить', 'волос', 'и', 'жирный', 'корень', 'на', 'следующий', 'день', 'тогда', 'вы', 'определённо', 'нужный', 'он', 'вызывать', 'перхоть', 'после', 'первый', 'применение', 'фото', 'здравствуйте', 'красавица', 'сегодня', 'я', 'поведать', 'вы', 'о', 'шампунь', 'head', 'shoulders', 'против', 'выпадение', 'волос', 'для', 'женщина', 'с', 'это', 'шампунь', 'я', 'прийтись', 'познакомиться', 'так', 'как', 'я']\n"
     ]
    },
    {
     "name": "stderr",
     "output_type": "stream",
     "text": [
      "\r",
      "  7%|█████▌                                                                             | 1/15 [00:04<01:09,  4.99s/it]"
     ]
    },
    {
     "name": "stdout",
     "output_type": "stream",
     "text": [
      "['3', 'май', '2012', '20', '32', 'нет', 'размышление', 'о', 'маркетинговый', 'ход', 'один', 'странный', 'человек', 'мама', 'любить', 'шампунь', 'этот', 'марка', 'покупать', 'постоянно', 'только', 'они', 'я', 'же', 'достаточно', 'сомнительно', 'относиться', 'к', 'подобный', 'средство', 'где', 'обещать', 'что', 'говориться', 'стопицот', 'в', 'один', 'и', 'увлажнение', 'ты', 'и', 'питание', 'и', 'от', 'перхоть', 'избавлять', 'и', 'мужик', 'привлекать', 'и']\n"
     ]
    },
    {
     "name": "stderr",
     "output_type": "stream",
     "text": [
      "\r",
      " 13%|███████████                                                                        | 2/15 [00:07<00:56,  4.32s/it]"
     ]
    },
    {
     "name": "stdout",
     "output_type": "stream",
     "text": [
      "['12', 'июнь', '2013', '12', '54', 'моментальный', 'эффект', 'грязный', 'волос', 'до', 'это', 'я', 'пользоваться', 'шампунь', 'хэд', 'энд', 'шолдерс', 'основной', 'уход', 'он', 'я', 'вполне', 'понравиться', 'так', 'как', 'избавить', 'от', 'перхоть', 'да', 'и', 'вообще', 'мой', 'волос', 'подойти', 'но', 'последний', 'время', 'у', 'я', 'сильно', 'выпадать', 'волос', 'и', 'тут', 'как', 'раз', 'на', 'глаз', 'подвернуться', 'новинка']\n"
     ]
    },
    {
     "name": "stderr",
     "output_type": "stream",
     "text": [
      "\r",
      " 20%|████████████████▌                                                                  | 3/15 [00:13<00:55,  4.66s/it]"
     ]
    },
    {
     "name": "stdout",
     "output_type": "stream",
     "text": [
      "['21', 'февраль', '2013', '13', '54', 'быть', 'осторожный', 'сразу', 'хотеть', 'сказать', 'что', 'пользоваться', 'шампунь', 'марка', 'head', 'shoulders', 'уже', 'очень', 'давно', 'наверное', 'уже', 'большой', '10', 'год', 'он', 'действительно', 'наркотик', 'сколько', 'бы', 'я', 'не', 'пробовать', 'перейти', 'на', 'другой', 'шампунь', 'всё', 'мой', 'попытка', 'быть', 'тщетный', 'перхоть', 'атакавал', 'мой', 'кожа', 'голова', 'уже', 'через', 'несколько', 'помывка']\n"
     ]
    },
    {
     "name": "stderr",
     "output_type": "stream",
     "text": [
      "\r",
      " 27%|██████████████████████▏                                                            | 4/15 [00:16<00:45,  4.17s/it]"
     ]
    },
    {
     "name": "stdout",
     "output_type": "stream",
     "text": [
      "['18', 'июль', '2019', '11', '51', 'не', 'шампунь', 'а', 'разочарование', 'опыт', 'использование', 'несколько', 'раз', 'я', 'просто', 'обожать', 'шампунь', 'head', 'shoulders', 'гладкий', 'и', 'шелковистый', 'поэтому', 'покупать', 'шампунь', 'тот', 'же', 'бренд', 'против', 'выпадение', 'волос', 'рассчитывать', 'что', 'он', 'я', 'подойти', 'но', 'не', 'тут', 'то', 'быть', 'уже', 'первый', 'мытьё', 'волос', 'показать', 'что', 'этот', 'шампунь', 'полностью']\n"
     ]
    },
    {
     "name": "stderr",
     "output_type": "stream",
     "text": [
      "\r",
      " 33%|███████████████████████████▋                                                       | 5/15 [00:21<00:46,  4.65s/it]"
     ]
    },
    {
     "name": "stdout",
     "output_type": "stream",
     "text": [
      "['6', 'апрель', '2013', '02', '21', 'ни', 'от', 'перхоть', 'ни', 'от', 'выпадение', 'волос', 'не', 'помогать', 'я', 'быть', 'перепробовать', 'всё', 'самый', 'раскрутить', 'бренд', 'как', 'timotei', 'shamtu', 'schauma', 'чистый', 'линия', 'и', 'так', 'п', 'от', 'они', 'быть', 'ещё', 'плохой', 'и', 'чесаться', 'кожа', 'голова', 'единственный', 'шампунь', 'который', 'справляться', 'хороший', 'остальной', 'это', 'head', 'shoulders', 'конечно', 'от']\n"
     ]
    },
    {
     "name": "stderr",
     "output_type": "stream",
     "text": [
      "\r",
      " 40%|█████████████████████████████████▏                                                 | 6/15 [00:26<00:41,  4.56s/it]"
     ]
    },
    {
     "name": "stdout",
     "output_type": "stream",
     "text": [
      "['20', 'январь', '2015', '17', '39', 'так', 'много', 'минус', 'так', 'мало', 'плюс', 'добрый', 'время', 'сутки', 'этот', 'отзыв', 'как', 'продолжение', 'предыдущий', 'отзыв', 'о', 'шампунь', 'который', 'тоже', 'обещать', 'разобраться', 'с', 'перхоть', 'так', 'вот', 'мой', 'впечатление', 'шампунь', 'представлять', 'себя', 'довольно', 'густой', 'субстанция', 'нежно', 'оранжевый', 'цвет', 'пахнуть', 'довольно', 'приятно', 'но', 'не', 'то', 'что', 'бы', 'прямо']\n"
     ]
    },
    {
     "name": "stderr",
     "output_type": "stream",
     "text": [
      "\r",
      " 47%|██████████████████████████████████████▋                                            | 7/15 [00:29<00:33,  4.22s/it]"
     ]
    },
    {
     "name": "stdout",
     "output_type": "stream",
     "text": [
      "['31', 'март', '2014', '15', '59', 'волос', 'стать', 'выпадать', 'ещё', 'большой', 'ранний', 'когда', 'я', 'пользоваться', 'марка', 'head', 'shoulders', 'я', 'всё', 'устраивать', 'шампунь', 'быть', 'очень', 'хороший', 'как', 'то', 'я', 'заметить', 'что', 'у', 'я', 'стать', 'выпадать', 'волос', 'на', 'прилавок', 'магазин', 'увидеть', 'шампунь', 'head', 'shoulders', 'против', 'выпадение', 'волос', 'и', 'решить', 'попробовать', 'отличный', 'эффект', 'я']\n"
     ]
    },
    {
     "name": "stderr",
     "output_type": "stream",
     "text": [
      "\r",
      " 53%|████████████████████████████████████████████▎                                      | 8/15 [00:34<00:31,  4.44s/it]"
     ]
    },
    {
     "name": "stdout",
     "output_type": "stream",
     "text": [
      "['5', 'апрель', '2011', '23', '32', 'шампунь', 'испортиться', 'ранний', 'я', 'постоянно', 'использовать', 'шампунь', 'для', 'мытьё', 'голова', 'хэд', 'энд', 'шоудерс', 'основной', 'уход', 'и', '2в1', 'и', 'для', 'чувствительный', 'кожа', 'голова', 'цитрус', 'свежесть', 'океанский', 'свежесть', 'я', 'перепробовать', 'всё', 'вид', 'последний', 'быть', 'шампунь', 'против', 'выпадение', 'волос', 'после', 'постоянный', 'мытьё', 'волос', 'шампунь', 'хэд', 'энд', 'шоудерс', 'волос']\n"
     ]
    },
    {
     "name": "stderr",
     "output_type": "stream",
     "text": [
      "\r",
      " 60%|█████████████████████████████████████████████████▊                                 | 9/15 [00:38<00:25,  4.22s/it]"
     ]
    },
    {
     "name": "stdout",
     "output_type": "stream",
     "text": [
      "['21', 'сентябрь', '2020', '01', '58', 'не', 'рекомендовать', 'итак', 'шампунь', 'head', 'shoulders', 'действительно', 'избавлять', 'от', 'перхоть', 'спасибо', 'приятно', 'пахнуть', 'доступный', 'цена', 'отлично', 'пениться', 'но', 'после', 'применение', 'шампунь', 'появляться', 'зуд', 'вызывать', 'привыкание', 'при', 'длительный', 'использование', 'волос', 'быстро', 'портиться', 'и', 'перхоть', 'так', 'и', 'сыпаться', 'в', 'состав', 'много', 'химия', 'если', 'вы', 'хотеть', 'избавиться', 'от']\n"
     ]
    },
    {
     "name": "stderr",
     "output_type": "stream",
     "text": [
      "\r",
      " 67%|██████████████████████████████████████████████████████▋                           | 10/15 [00:42<00:20,  4.11s/it]"
     ]
    },
    {
     "name": "stdout",
     "output_type": "stream",
     "text": [
      "[]\n"
     ]
    },
    {
     "name": "stderr",
     "output_type": "stream",
     "text": [
      "\r",
      " 73%|████████████████████████████████████████████████████████████▏                     | 11/15 [00:45<00:15,  3.94s/it]"
     ]
    },
    {
     "name": "stdout",
     "output_type": "stream",
     "text": [
      "[]\n"
     ]
    },
    {
     "name": "stderr",
     "output_type": "stream",
     "text": [
      "\r",
      " 80%|█████████████████████████████████████████████████████████████████▌                | 12/15 [00:50<00:12,  4.28s/it]"
     ]
    },
    {
     "name": "stdout",
     "output_type": "stream",
     "text": [
      "[]\n"
     ]
    },
    {
     "name": "stderr",
     "output_type": "stream",
     "text": [
      "\r",
      " 87%|███████████████████████████████████████████████████████████████████████           | 13/15 [00:54<00:07,  3.97s/it]"
     ]
    },
    {
     "name": "stdout",
     "output_type": "stream",
     "text": [
      "[]\n"
     ]
    },
    {
     "name": "stderr",
     "output_type": "stream",
     "text": [
      "\r",
      " 93%|████████████████████████████████████████████████████████████████████████████▌     | 14/15 [00:58<00:03,  3.93s/it]"
     ]
    },
    {
     "name": "stdout",
     "output_type": "stream",
     "text": [
      "[]\n"
     ]
    },
    {
     "name": "stderr",
     "output_type": "stream",
     "text": [
      "100%|██████████████████████████████████████████████████████████████████████████████████| 15/15 [01:00<00:00,  4.03s/it]\n"
     ]
    }
   ],
   "source": [
    "for link in tqdm(bad_reviews_links[:30]):\n",
    "    lemmas = parse_review('https://irecommend.ru' + link)\n",
    "    print(lemmas[:50])\n",
    "    bad_words.extend(lemmas)\n",
    "    time.sleep(random.uniform(1.1, 5.2))"
   ]
  },
  {
   "cell_type": "markdown",
   "metadata": {},
   "source": [
    "Сохраняем, когда сайт опять начал блокировать"
   ]
  },
  {
   "cell_type": "code",
   "execution_count": 13,
   "metadata": {},
   "outputs": [],
   "source": [
    "with open('bad_words.json', 'w', encoding=\"utf-8\") as outfile:\n",
    "    json.dump(bad_words, outfile)"
   ]
  },
  {
   "cell_type": "markdown",
   "metadata": {},
   "source": [
    "аналогично с хорошими словами"
   ]
  },
  {
   "cell_type": "code",
   "execution_count": 14,
   "metadata": {},
   "outputs": [],
   "source": [
    "with open('good_words.json', encoding=\"utf-8\") as file:\n",
    "    good_words = json.load(file)"
   ]
  },
  {
   "cell_type": "code",
   "execution_count": 149,
   "metadata": {
    "collapsed": true
   },
   "outputs": [
    {
     "name": "stderr",
     "output_type": "stream",
     "text": [
      "\r",
      "  0%|                                                                                            | 0/5 [00:00<?, ?it/s]"
     ]
    },
    {
     "name": "stdout",
     "output_type": "stream",
     "text": [
      "['5', 'март', '2013', '12', '40', 'отличный', 'шампунь', 'рекомендовать', 'шампунь', 'head', 'shoulders', 'против', 'выпадение', 'волос', 'пользоваться', 'давно', 'периодически', 'сменять', 'он', 'другой', 'шампунь', 'этот', 'же', 'марка', 'волос', 'действительно', 'выпадать', 'маленький', 'но', 'эффект', 'есть', 'только', 'если', 'регулярно', 'использовать', 'этот', 'шампунь', 'стоить', 'только', 'сменить', 'он', 'на', 'другой', 'как', 'волос', 'начинать', 'выпадать', 'как', 'и', 'до']\n"
     ]
    },
    {
     "name": "stderr",
     "output_type": "stream",
     "text": [
      "\r",
      " 20%|████████████████▊                                                                   | 1/5 [00:03<00:12,  3.01s/it]"
     ]
    },
    {
     "name": "stdout",
     "output_type": "stream",
     "text": [
      "['7', 'октябрь', '2010', '13', '20', 'супер', 'в', 'один', 'время', 'очень', 'сильно', 'начать', 'выпадать', 'волос', 'я', 'стать', 'страшно', 'такой', 'количество', 'волос', 'в', 'день', 'терять', 'просто', 'не', 'мыслить', 'достаточно', 'быть', 'просто', 'провести', 'рука', 'по', 'волос', 'и', 'наблюдать', 'как', 'пар', 'десяток', 'волос', 'красоваться', 'уже', 'у', 'ты', 'на', 'ладонь', 'я', 'не', 'говорить', 'даже', 'о']\n"
     ]
    },
    {
     "name": "stderr",
     "output_type": "stream",
     "text": [
      "\r",
      " 40%|█████████████████████████████████▌                                                  | 2/5 [00:06<00:09,  3.13s/it]"
     ]
    },
    {
     "name": "stdout",
     "output_type": "stream",
     "text": [
      "['10', 'январь', '2015', '06', '11', 'один', 'из', 'немногий', 'шампунь', 'который', 'я', 'идеально', 'подходить', 'прежде', 'всего', 'хотеть', 'сказать', 'что', 'каждый', 'человек', 'индивидуальный', 'и', 'кто', 'то', 'данный', 'шампунь', 'помогать', 'избавиться', 'от', 'перхоть', 'у', 'кто', 'то', 'напротив', 'перхоть', 'появляться', 'просто', 'нужно', 'найти', 'именно', 'то', 'средство', 'который', 'подходить', 'конкретно', 'для', 'вы', 'для', 'я', 'же']\n"
     ]
    },
    {
     "name": "stderr",
     "output_type": "stream",
     "text": [
      "\r",
      " 60%|██████████████████████████████████████████████████▍                                 | 3/5 [00:08<00:05,  2.84s/it]"
     ]
    },
    {
     "name": "stdout",
     "output_type": "stream",
     "text": [
      "['5', 'октябрь', '2015', '20', '35', 'мой', 'волос', 'наглядно', 'рассказать', 'вы', 'подойти', 'ли', 'они', 'шампунь', 'pantene', 'pro', 'v', 'гладкий', 'шёлк', 'фото', 'приветствовать', 'весь', 'читатель', 'мой', 'отзыв', 'наверняка', 'всё', 'вы', 'знакомый', 'с', 'шампунь', 'pantene', 'pro', 'v', 'и', 'сегодня', 'я', 'хотеть', 'поделиться', 'свой', 'опыт', 'применение', 'шампунь', 'pantene', 'pro', 'v', 'гладкий', 'шёлк', 'знакомый', 'с']\n"
     ]
    },
    {
     "name": "stderr",
     "output_type": "stream",
     "text": [
      "\r",
      " 80%|███████████████████████████████████████████████████████████████████▏                | 4/5 [00:11<00:02,  2.77s/it]"
     ]
    },
    {
     "name": "stdout",
     "output_type": "stream",
     "text": [
      "['22', 'октябрь', '2012', '22', '20', 'у', 'я', 'свой', 'формула', 'и', 'волос', 'как', 'бриллиант', 'фото', 'доказательство', 'согласиться', 'что', 'ошибиться', 'с', 'шампунь', 'не', 'такой', 'уж', 'и', 'беда', 'конечно', 'если', 'вызвать', 'раздражение', 'не', 'привести', 'к', 'серьёзный', 'проблема', 'с', 'здоровье', 'стоить', 'не', 'много', 'если', 'что', 'то', 'не', 'устраивать', 'легко', 'поменять', 'без', 'последствие', 'для', 'здоровье']\n"
     ]
    },
    {
     "name": "stderr",
     "output_type": "stream",
     "text": [
      "100%|████████████████████████████████████████████████████████████████████████████████████| 5/5 [00:13<00:00,  2.70s/it]\n"
     ]
    }
   ],
   "source": [
    "for link in tqdm(good_reviews_links[:30]):\n",
    "    lemmas = parse_review('https://irecommend.ru' + link)\n",
    "    print(lemmas[:50])\n",
    "    good_words.extend(lemmas)\n",
    "    time.sleep(random.uniform(1.1, 5.2))"
   ]
  },
  {
   "cell_type": "code",
   "execution_count": 15,
   "metadata": {},
   "outputs": [],
   "source": [
    "with open('good_words.json', 'w', encoding=\"utf-8\") as outfile:\n",
    "    json.dump(good_words, outfile)"
   ]
  },
  {
   "cell_type": "markdown",
   "metadata": {},
   "source": [
    "Теперь множества с только положительными и только отрицательными словами"
   ]
  },
  {
   "cell_type": "code",
   "execution_count": 17,
   "metadata": {},
   "outputs": [],
   "source": [
    "only_bad = set(bad_words).difference(set(good_words))\n",
    "only_good = set(good_words).difference(set(bad_words))"
   ]
  },
  {
   "cell_type": "markdown",
   "metadata": {},
   "source": [
    "фильтрация по количеству вхождений"
   ]
  },
  {
   "cell_type": "code",
   "execution_count": 20,
   "metadata": {},
   "outputs": [],
   "source": [
    "to_delete = set()\n",
    "for word in only_bad:\n",
    "    if bad_words.count(word) < 2:\n",
    "        to_delete.add(word)"
   ]
  },
  {
   "cell_type": "code",
   "execution_count": 21,
   "metadata": {},
   "outputs": [],
   "source": [
    "bad = only_bad-to_delete"
   ]
  },
  {
   "cell_type": "code",
   "execution_count": 22,
   "metadata": {},
   "outputs": [
    {
     "data": {
      "text/plain": [
       "{'02',\n",
       " '07',\n",
       " '32',\n",
       " '34',\n",
       " '400мл',\n",
       " '51',\n",
       " '54',\n",
       " 'benzyl',\n",
       " 'butylphenyl',\n",
       " 'camellia',\n",
       " 'cane',\n",
       " 'carbomer',\n",
       " 'citrus',\n",
       " 'cocamide',\n",
       " 'cocoamphodiacetate',\n",
       " 'content',\n",
       " 'denat',\n",
       " 'disodium',\n",
       " 'distearate',\n",
       " 'extract',\n",
       " 'fragrance',\n",
       " 'fruit',\n",
       " 'ginseng',\n",
       " 'glycol',\n",
       " 'hcl',\n",
       " 'hexylene',\n",
       " 'http',\n",
       " 'hydroxide',\n",
       " 'hydroxypropyl',\n",
       " 'irecommend',\n",
       " 'isopropanolamine',\n",
       " 'leaf',\n",
       " 'lemon',\n",
       " 'limonum',\n",
       " 'magnesium',\n",
       " 'malus',\n",
       " 'medica',\n",
       " 'methylpropional',\n",
       " 'mipa',\n",
       " 'niacinamide',\n",
       " 'octadecanediol',\n",
       " 'officinarum',\n",
       " 'oleamido',\n",
       " 'oleth',\n",
       " 'panax',\n",
       " 'peel',\n",
       " 'propylene',\n",
       " 'pyridoxine',\n",
       " 'pyrus',\n",
       " 'root',\n",
       " 'ru',\n",
       " 'saccharum',\n",
       " 'salicylic',\n",
       " 'sinensis',\n",
       " 'sugar',\n",
       " 'water',\n",
       " 'бережный',\n",
       " 'беспроблемный',\n",
       " 'биоактивный',\n",
       " 'близкий',\n",
       " 'везде',\n",
       " 'вечером',\n",
       " 'восстанавливать',\n",
       " 'восстановить',\n",
       " 'впечатлить',\n",
       " 'выветриваться',\n",
       " 'выделить',\n",
       " 'выкинуть',\n",
       " 'выливать',\n",
       " 'высохнуть',\n",
       " 'высушить',\n",
       " 'где',\n",
       " 'говориться',\n",
       " 'грязниться',\n",
       " 'дизайн',\n",
       " 'добавлять',\n",
       " 'домой',\n",
       " 'дописать',\n",
       " 'допользовать',\n",
       " 'ежедневный',\n",
       " 'её',\n",
       " 'жара',\n",
       " 'жёсткость',\n",
       " 'закрываться',\n",
       " 'замечать',\n",
       " 'звёздочка',\n",
       " 'измениться',\n",
       " 'интенсивность',\n",
       " 'исключение',\n",
       " 'итог',\n",
       " 'июль',\n",
       " 'керамид',\n",
       " 'комплекс',\n",
       " 'крайний',\n",
       " 'красавица',\n",
       " 'криминальный',\n",
       " 'крышечка',\n",
       " 'кстати',\n",
       " 'куда',\n",
       " 'лежать',\n",
       " 'лезть',\n",
       " 'лекарственный',\n",
       " 'линия',\n",
       " 'ломать',\n",
       " 'лопатка',\n",
       " 'ля',\n",
       " 'мама',\n",
       " 'маркетинговый',\n",
       " 'маркетолог',\n",
       " 'менее',\n",
       " 'мера',\n",
       " 'минимум',\n",
       " 'мокрый',\n",
       " 'мужчина',\n",
       " 'мыло',\n",
       " 'наверное',\n",
       " 'наноситься',\n",
       " 'настолько',\n",
       " 'недорогой',\n",
       " 'непрозрачный',\n",
       " 'нивеевский',\n",
       " 'нивей',\n",
       " 'нивеять',\n",
       " 'никто',\n",
       " 'нога',\n",
       " 'нормально',\n",
       " 'нотка',\n",
       " 'образ',\n",
       " 'обходить',\n",
       " 'около',\n",
       " 'остановить',\n",
       " 'остаться',\n",
       " 'осторожный',\n",
       " 'отвечать',\n",
       " 'открывать',\n",
       " 'открываться',\n",
       " 'отмена',\n",
       " 'отношение',\n",
       " 'пачкаться',\n",
       " 'перемыть',\n",
       " 'перепробовать',\n",
       " 'пересушенность',\n",
       " 'пересушить',\n",
       " 'перламутровый',\n",
       " 'печальный',\n",
       " 'пиритион',\n",
       " 'плотно',\n",
       " 'плохо',\n",
       " 'побояться',\n",
       " 'повторить',\n",
       " 'подобный',\n",
       " 'подробно',\n",
       " 'пол',\n",
       " 'полый',\n",
       " 'порекомендовать',\n",
       " 'постоянный',\n",
       " 'представить',\n",
       " 'прекратить',\n",
       " 'прилавок',\n",
       " 'пробник',\n",
       " 'продаваться',\n",
       " 'промах',\n",
       " 'профессиональный',\n",
       " 'профиль',\n",
       " 'путаться',\n",
       " 'пух',\n",
       " 'разочароваться',\n",
       " 'распределяться',\n",
       " 'расстроиться',\n",
       " 'рассчитывать',\n",
       " 'решиться',\n",
       " 'рискнуть',\n",
       " 'сальный',\n",
       " 'сдержать',\n",
       " 'скажем',\n",
       " 'скептически',\n",
       " 'скорость',\n",
       " 'смущать',\n",
       " 'сначала',\n",
       " 'сожаление',\n",
       " 'сомнение',\n",
       " 'ссылка',\n",
       " 'старый',\n",
       " 'странный',\n",
       " 'сульфат',\n",
       " 'сушка',\n",
       " 'сфотографировать',\n",
       " 'счёт',\n",
       " 'тогда',\n",
       " 'тополиный',\n",
       " 'трогать',\n",
       " 'ужас',\n",
       " 'улыбнуть',\n",
       " 'уменьшать',\n",
       " 'успеть',\n",
       " 'устранять',\n",
       " 'устроить',\n",
       " 'химический',\n",
       " 'химия',\n",
       " 'хэд',\n",
       " 'цинк',\n",
       " 'час',\n",
       " 'часы',\n",
       " 'шолдерс',\n",
       " 'шоудерс',\n",
       " 'энд'}"
      ]
     },
     "execution_count": 22,
     "metadata": {},
     "output_type": "execute_result"
    }
   ],
   "source": [
    "bad"
   ]
  },
  {
   "cell_type": "code",
   "execution_count": 23,
   "metadata": {},
   "outputs": [],
   "source": [
    "to_delete = set()\n",
    "for word in only_good:\n",
    "    if good_words.count(word) < 2:\n",
    "        to_delete.add(word)"
   ]
  },
  {
   "cell_type": "code",
   "execution_count": 24,
   "metadata": {},
   "outputs": [],
   "source": [
    "good = only_good-to_delete"
   ]
  },
  {
   "cell_type": "code",
   "execution_count": 25,
   "metadata": {},
   "outputs": [
    {
     "data": {
      "text/plain": [
       "{'165',\n",
       " '250мл',\n",
       " '300',\n",
       " '40',\n",
       " 'beiersdorf',\n",
       " 'betaine',\n",
       " 'care',\n",
       " 'castor',\n",
       " 'cocamidopropyl',\n",
       " 'diamond',\n",
       " 'doux',\n",
       " 'elseve',\n",
       " 'gliss',\n",
       " 'hs',\n",
       " 'hydrogenated',\n",
       " 'kur',\n",
       " 'lanolin',\n",
       " 'limonene',\n",
       " 'macadamia',\n",
       " 'oil',\n",
       " 'oreal',\n",
       " 'pantene',\n",
       " 'peg',\n",
       " 'ph',\n",
       " 'powder',\n",
       " 'pro',\n",
       " 'seed',\n",
       " 'sles',\n",
       " 'ternifolia',\n",
       " 'ultra',\n",
       " 'v',\n",
       " 'агрессивный',\n",
       " 'аллергический',\n",
       " 'алмазный',\n",
       " 'антиоксидант',\n",
       " 'антисептик',\n",
       " 'антистатик',\n",
       " 'аптека',\n",
       " 'ароматизатор',\n",
       " 'беспокоить',\n",
       " 'блестеть',\n",
       " 'блонда',\n",
       " 'болячка',\n",
       " 'бороться',\n",
       " 'брызкай',\n",
       " 'важный',\n",
       " 'верить',\n",
       " 'вещество',\n",
       " 'влага',\n",
       " 'влиять',\n",
       " 'вода',\n",
       " 'воздушный',\n",
       " 'возникать',\n",
       " 'возникнуть',\n",
       " 'волосы5',\n",
       " 'восторг',\n",
       " 'впервые',\n",
       " 'вредный',\n",
       " 'всерекомендовать',\n",
       " 'вспенить',\n",
       " 'всякий',\n",
       " 'вызвать',\n",
       " 'выпускать',\n",
       " 'высыхание',\n",
       " 'выше',\n",
       " 'вязкость',\n",
       " 'глупо',\n",
       " 'годность',\n",
       " 'гормональный',\n",
       " 'дальнейший',\n",
       " 'далёкий',\n",
       " 'данные',\n",
       " 'дарить',\n",
       " 'добиться',\n",
       " 'достаточный',\n",
       " 'достать',\n",
       " 'енд',\n",
       " 'жаловаться',\n",
       " 'желтизна',\n",
       " 'жизненный',\n",
       " 'жирнит',\n",
       " 'забота',\n",
       " 'загуститель',\n",
       " 'задача',\n",
       " 'запах4',\n",
       " 'идеально',\n",
       " 'избавление',\n",
       " 'иметься',\n",
       " 'индивидуальный',\n",
       " 'иногда',\n",
       " 'интересно',\n",
       " 'искать',\n",
       " 'капля',\n",
       " 'кислота',\n",
       " 'количество',\n",
       " 'комната',\n",
       " 'кондиционер',\n",
       " 'кондиционировать',\n",
       " 'консервант',\n",
       " 'копна',\n",
       " 'косметика',\n",
       " 'краска',\n",
       " 'ладный',\n",
       " 'лазание',\n",
       " 'ланолиновый',\n",
       " 'лимонный',\n",
       " 'лично',\n",
       " 'ломаться',\n",
       " 'любитель',\n",
       " 'люкс',\n",
       " 'мазать',\n",
       " 'место',\n",
       " 'млместо',\n",
       " 'мучиться',\n",
       " 'мылиться',\n",
       " 'надолго3',\n",
       " 'наиболее',\n",
       " 'наличие',\n",
       " 'нанести',\n",
       " 'напоминать',\n",
       " 'насчёт',\n",
       " 'наткнуться',\n",
       " 'натрий',\n",
       " 'началиминус',\n",
       " 'невероятно',\n",
       " 'невыносимость',\n",
       " 'недавно',\n",
       " 'недорого',\n",
       " 'недорогой2',\n",
       " 'нежный',\n",
       " 'нейтрализация',\n",
       " 'никак',\n",
       " 'ночь',\n",
       " 'обладательница',\n",
       " 'облегчать',\n",
       " 'обращаться',\n",
       " 'однозначно',\n",
       " 'ооофигенный',\n",
       " 'ополаскиватель',\n",
       " 'особенность',\n",
       " 'особый',\n",
       " 'осталисьплюс',\n",
       " 'отличие',\n",
       " 'отследить',\n",
       " 'очищение',\n",
       " 'ошибиться',\n",
       " 'пава',\n",
       " 'пакля',\n",
       " 'пантина',\n",
       " 'пар',\n",
       " 'пенообразование',\n",
       " 'периодически',\n",
       " 'питательный',\n",
       " 'пленкообразователь',\n",
       " 'повториться',\n",
       " 'подходящий',\n",
       " 'поликватерниум',\n",
       " 'помимо',\n",
       " 'помощь',\n",
       " 'последующий',\n",
       " 'похожий',\n",
       " 'пр',\n",
       " 'предотвращать',\n",
       " 'предыстория',\n",
       " 'прежний',\n",
       " 'прекрасно',\n",
       " 'привыкать',\n",
       " 'прикорневой',\n",
       " 'причина',\n",
       " 'производиться',\n",
       " 'производный',\n",
       " 'пропадать',\n",
       " 'пропасть',\n",
       " 'просыпаться',\n",
       " 'прочно',\n",
       " 'прочный',\n",
       " 'прыщ',\n",
       " 'прям',\n",
       " 'пудра',\n",
       " 'пушить',\n",
       " 'рада',\n",
       " 'разглаживать',\n",
       " 'раздражение',\n",
       " 'разнообразие',\n",
       " 'расход',\n",
       " 'расчесывание',\n",
       " 'расчёсывание',\n",
       " 'рацион',\n",
       " 'реакция',\n",
       " 'скальп',\n",
       " 'скорый',\n",
       " 'скрип',\n",
       " 'слабый',\n",
       " 'снова',\n",
       " 'содержаться',\n",
       " 'соль',\n",
       " 'соответственно',\n",
       " 'состояние',\n",
       " 'сперва',\n",
       " 'специальный',\n",
       " 'спирт',\n",
       " 'способность',\n",
       " 'сравнение',\n",
       " 'стабилизатор',\n",
       " 'супер',\n",
       " 'терять',\n",
       " 'течение',\n",
       " 'трава',\n",
       " 'тьфу',\n",
       " 'убеждение',\n",
       " 'увлажнять',\n",
       " 'ужасный',\n",
       " 'улучшать',\n",
       " 'условие',\n",
       " 'уходовой',\n",
       " 'хед',\n",
       " 'химик',\n",
       " 'хлорид',\n",
       " 'часто',\n",
       " 'чередовать',\n",
       " 'чудесный',\n",
       " 'шампуне2',\n",
       " 'шампунькак',\n",
       " 'шикарно',\n",
       " 'шикарный',\n",
       " 'шоулдерс',\n",
       " 'шёлк',\n",
       " 'щелочной',\n",
       " 'эвкалипт',\n",
       " 'эмульгатор',\n",
       " 'энергия'}"
      ]
     },
     "execution_count": 25,
     "metadata": {},
     "output_type": "execute_result"
    }
   ],
   "source": [
    "good"
   ]
  },
  {
   "cell_type": "markdown",
   "metadata": {},
   "source": [
    "Функция, аналогичная разбору сайта с отзывом, только для текстового формата (поскольку отзывы на проверку я сохранила так)"
   ]
  },
  {
   "cell_type": "code",
   "execution_count": 27,
   "metadata": {},
   "outputs": [],
   "source": [
    "def parse_review_text(text):\n",
    "    tokens = tokenizer.tokenize(text)\n",
    "    lemmas = []\n",
    "    for token in tokens:\n",
    "        token = token.lower()\n",
    "        analyze = morph.parse(token)[0]\n",
    "        lemmas.append(analyze.normal_form)\n",
    "    return lemmas"
   ]
  },
  {
   "cell_type": "markdown",
   "metadata": {},
   "source": [
    "функция, угадывающая, является ли отзыв хорошим"
   ]
  },
  {
   "cell_type": "code",
   "execution_count": 49,
   "metadata": {},
   "outputs": [],
   "source": [
    "def if_good(lemmas):\n",
    "    bad_count = 0\n",
    "    good_count = 0\n",
    "    for lemma in lemmas:\n",
    "        if lemma in bad:\n",
    "            bad_count += 1\n",
    "        if lemma in good:\n",
    "            good_count += 1\n",
    "    print('количество плохих слов:', bad_count,', количество хороших слов:', good_count)\n",
    "    if bad_count > good_count:\n",
    "        print('bad')\n",
    "        return 'bad'\n",
    "    else:\n",
    "        print('good')\n",
    "        return 'good'"
   ]
  },
  {
   "cell_type": "code",
   "execution_count": 50,
   "metadata": {},
   "outputs": [],
   "source": [
    "tp = 0\n",
    "tn = 0\n",
    "fp = 0\n",
    "fn = 0"
   ]
  },
  {
   "cell_type": "code",
   "execution_count": 51,
   "metadata": {},
   "outputs": [],
   "source": [
    "with open('bad_check.txt', encoding = 'utf-8') as file:\n",
    "    text = file.read()\n",
    "    reviews = text.split('179179179')"
   ]
  },
  {
   "cell_type": "code",
   "execution_count": 52,
   "metadata": {},
   "outputs": [
    {
     "name": "stdout",
     "output_type": "stream",
     "text": [
      "количество плохих слов: 8 , количество хороших слов: 4\n",
      "bad\n",
      "количество плохих слов: 0 , количество хороших слов: 4\n",
      "good\n",
      "количество плохих слов: 11 , количество хороших слов: 2\n",
      "bad\n",
      "количество плохих слов: 7 , количество хороших слов: 11\n",
      "good\n",
      "количество плохих слов: 11 , количество хороших слов: 3\n",
      "bad\n",
      "количество плохих слов: 0 , количество хороших слов: 4\n",
      "good\n",
      "количество плохих слов: 1 , количество хороших слов: 5\n",
      "good\n"
     ]
    }
   ],
   "source": [
    "for review in reviews:\n",
    "    ans = if_good(parse_review_text(review))\n",
    "    if ans == 'bad':\n",
    "        tn += 1\n",
    "    else:\n",
    "        fp +=1"
   ]
  },
  {
   "cell_type": "code",
   "execution_count": 53,
   "metadata": {},
   "outputs": [],
   "source": [
    "with open('good_check.txt', encoding = 'utf-8') as file:\n",
    "    text = file.read()\n",
    "    reviews = text.split('179179179')"
   ]
  },
  {
   "cell_type": "code",
   "execution_count": 54,
   "metadata": {},
   "outputs": [
    {
     "name": "stdout",
     "output_type": "stream",
     "text": [
      "количество плохих слов: 4 , количество хороших слов: 5\n",
      "good\n",
      "количество плохих слов: 10 , количество хороших слов: 14\n",
      "good\n",
      "количество плохих слов: 22 , количество хороших слов: 27\n",
      "good\n",
      "количество плохих слов: 3 , количество хороших слов: 1\n",
      "bad\n",
      "количество плохих слов: 15 , количество хороших слов: 13\n",
      "bad\n",
      "количество плохих слов: 2 , количество хороших слов: 9\n",
      "good\n",
      "количество плохих слов: 0 , количество хороших слов: 3\n",
      "good\n"
     ]
    }
   ],
   "source": [
    "for review in reviews:\n",
    "    ans = if_good(parse_review_text(review))\n",
    "    if ans == 'good':\n",
    "        tp += 1\n",
    "    else:\n",
    "        fn += 1"
   ]
  },
  {
   "cell_type": "code",
   "execution_count": 55,
   "metadata": {},
   "outputs": [
    {
     "name": "stdout",
     "output_type": "stream",
     "text": [
      "0.5714285714285714\n"
     ]
    }
   ],
   "source": [
    "accuracy = (tn+tp)/(tn+tp+fn+fp)\n",
    "print(accuracy)"
   ]
  },
  {
   "cell_type": "markdown",
   "metadata": {},
   "source": [
    "Как можно улучшить:\n",
    "- смотреть не на \"встречается только в отрицательных отзывах\", а на долю в положительных и отрицательных отзывах, потому что даже слово \"плохой\" может быть в положительном отзыве, но всё же во много раз реже, чем в отрицательном\n",
    "- смотреть не на токены, а на биграммы, чтобы отлавливать словосочетания с \"не\" и \"но\""
   ]
  }
 ],
 "metadata": {
  "kernelspec": {
   "display_name": "Python 3",
   "language": "python",
   "name": "python3"
  },
  "language_info": {
   "codemirror_mode": {
    "name": "ipython",
    "version": 3
   },
   "file_extension": ".py",
   "mimetype": "text/x-python",
   "name": "python",
   "nbconvert_exporter": "python",
   "pygments_lexer": "ipython3",
   "version": "3.8.2"
  }
 },
 "nbformat": 4,
 "nbformat_minor": 4
}
